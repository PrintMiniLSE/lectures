{
 "cells": [
  {
   "cell_type": "markdown",
   "metadata": {
    "slideshow": {
     "slide_type": "slide"
    }
   },
   "source": [
    "### MY470 Computer Programming\n",
    "# Data Types in Python\n",
    "### Week 2 Lecture"
   ]
  },
  {
   "cell_type": "markdown",
   "metadata": {
    "slideshow": {
     "slide_type": "slide"
    }
   },
   "source": [
    "## Overview\n",
    "\n",
    "* About Python\n",
    "* Scalars: `int`, `float`, `bool`, `None`\n",
    "    * Operators: arithmetic, boolean, comparison, assignment, membership\n",
    "* Non-scalars: `list`, `tuple`, `str`, `set`, `dict`\n",
    "    * Methods\n",
    "    * Ordered vs. unordered non-scalars       \n",
    "    * Mutable vs. immutable non-scalars\n"
   ]
  },
  {
   "cell_type": "markdown",
   "metadata": {
    "slideshow": {
     "slide_type": "slide"
    }
   },
   "source": [
    "![Python on xkcd](figs/xkcd.png \"Python on xkcd\")\n",
    "\n",
    "   Source: http://xkcd.com/353/"
   ]
  },
  {
   "cell_type": "markdown",
   "metadata": {
    "slideshow": {
     "slide_type": "slide"
    }
   },
   "source": [
    "## Why Python?\n",
    "\n",
    "![Python](figs/python.png \"Python\")\n",
    "\n",
    "* Open-source – free and well-documented\n",
    "* Simple and concise syntax\n",
    "* Many useful libraries\n",
    "* Cross-platform\n",
    "* [Widely used in industry and science](https://youtu.be/cKzP61Gjf00)"
   ]
  },
  {
   "cell_type": "markdown",
   "metadata": {
    "slideshow": {
     "slide_type": "slide"
    }
   },
   "source": [
    "## Python vs. Java: Syntax"
   ]
  },
  {
   "cell_type": "markdown",
   "metadata": {
    "slideshow": {
     "slide_type": "-"
    }
   },
   "source": [
    "* Python"
   ]
  },
  {
   "cell_type": "code",
   "execution_count": 4,
   "metadata": {
    "slideshow": {
     "slide_type": "-"
    }
   },
   "outputs": [
    {
     "name": "stdout",
     "output_type": "stream",
     "text": [
      "Hello world!\n"
     ]
    }
   ],
   "source": [
    "print('Hello world!')"
   ]
  },
  {
   "cell_type": "markdown",
   "metadata": {
    "slideshow": {
     "slide_type": "fragment"
    }
   },
   "source": [
    "* Java\n",
    "\n",
    "```public class HelloWorld\n",
    "{\n",
    "    public static void main (String[] args)\n",
    "    {\n",
    "        System.out.println(\"Hello world!\");\n",
    "    }\n",
    "}```"
   ]
  },
  {
   "cell_type": "markdown",
   "metadata": {
    "slideshow": {
     "slide_type": "slide"
    }
   },
   "source": [
    "## Python vs. C, Matlab, R, and Julia: Speed\n",
    "\n",
    "| Task     | Python |    C   | Matlab  |    R   | Julia   \n",
    "| :------- |:------:|:------:| :------:|:------:|:--------:\n",
    "| Loops    | 61.97  |   0.55 |    6.80 | 744.93 |  0.34\n",
    "| Matrix multiplication | 0.95 |   -    |    0.90 | 11.46  |  1.09\n",
    "| Open files and plot data  | 1399 |   - |    1678 |   2220 |  1317\n",
    "| Metropolis-Hastings algorithm | 0.08 | 4.30 | 0.99 | 28.63 |  0.73\n",
    "\n",
    "\n",
    "Source: https://modelingguru.nasa.gov/docs/DOC-2625\n"
   ]
  },
  {
   "cell_type": "markdown",
   "metadata": {
    "slideshow": {
     "slide_type": "slide"
    }
   },
   "source": [
    "## A Brief History of Python\n",
    "\n",
    "![Guido van Rossum](figs/van_rossum_2006.jpg \"Guido van Rossum\")\n",
    "\n",
    "* Started in December 1989 by Guido van Rossum, BDFL (Benevolent Dictator for Life)\n",
    "* Python 2.0 released in 2000\n",
    "* Python 3.0, which is backward-incompatible, released in 2008\n",
    "* End of Life date for Python 2.7 was January 1st, 2020"
   ]
  },
  {
   "cell_type": "markdown",
   "metadata": {
    "slideshow": {
     "slide_type": "slide"
    }
   },
   "source": [
    "## From Last Week: Objects, Data Types, and Expressions\n",
    "\n",
    "* Computer programs manipulate objects\n",
    "* Objects have types\n",
    "  * Scalar — indivisible (atomic/one value at a time/represent only one single data value)\n",
    "  * Non-scalar — with internal structure (collections of multiple data values)\n",
    "* Expressions combine objects and operators"
   ]
  },
  {
   "cell_type": "markdown",
   "metadata": {
    "slideshow": {
     "slide_type": "slide"
    }
   },
   "source": [
    "## Scalar Data Types\n",
    "\n",
    "* Integer\n",
    "* Float\n",
    "* Boolean\n",
    "* NoneType\n",
    "* (String is non-scalar in Python)"
   ]
  },
  {
   "cell_type": "code",
   "execution_count": 4,
   "metadata": {
    "slideshow": {
     "slide_type": "-"
    }
   },
   "outputs": [
    {
     "name": "stdout",
     "output_type": "stream",
     "text": [
      "<class 'int'>\n",
      "<class 'float'>\n",
      "<class 'bool'>\n",
      "<class 'NoneType'>\n",
      "<class 'str'>\n"
     ]
    }
   ],
   "source": [
    "# type () 하면 returns the type of the object or returns the new type object based on the arguments passed \n",
    "print(type(2))\n",
    "print(type(1.125))\n",
    "print(type(True))\n",
    "print(type(None))\n",
    "print(type('a'))\n",
    "\n"
   ]
  },
  {
   "cell_type": "markdown",
   "metadata": {
    "slideshow": {
     "slide_type": "slide"
    }
   },
   "source": [
    "## Converting between Scalar Data Types\n",
    "\n",
    "* Use the name of a type to convert values to that type"
   ]
  },
  {
   "cell_type": "code",
   "execution_count": 29,
   "metadata": {
    "slideshow": {
     "slide_type": "-"
    }
   },
   "outputs": [
    {
     "name": "stdout",
     "output_type": "stream",
     "text": [
      "123.0 32\n",
      "234.0 25\n",
      "25\n",
      "<class 'str'>\n",
      "<class 'int'>\n"
     ]
    }
   ],
   "source": [
    "a = float(123)\n",
    "b = int('32') #왜 인티저에 쿼테이션 마크 잇는거? bc we want to convert data type from str to int\n",
    "print(a, b)\n",
    "c = int() # if no value, it returns zero\n",
    "d = float(234)\n",
    "e = int(25)\n",
    "print (d,e)\n",
    "print (e)\n",
    "print (type ('32')) #'32'는 str\n",
    "print (type (int('32'))) #int('32')는 int로 변환되는것을 볼 수 있음\n"
   ]
  },
  {
   "cell_type": "markdown",
   "metadata": {
    "slideshow": {
     "slide_type": "slide"
    }
   },
   "source": [
    "## Operators\n",
    "\n",
    "\n",
    "* Arithmetic\n",
    "* Boolean\n",
    "* Comparison\n",
    "* Assignment"
   ]
  },
  {
   "cell_type": "markdown",
   "metadata": {
    "slideshow": {
     "slide_type": "slide"
    }
   },
   "source": [
    "## Arithmetic Operators\n",
    "\n",
    "* `+` &nbsp;&nbsp; addition\n",
    "* `-` &nbsp;&nbsp; subtraction\n",
    "* `*` &nbsp;&nbsp; multiplication\n",
    "* `/` &nbsp;&nbsp; division\n",
    "* `%` &nbsp;&nbsp; modulus 나머지\n",
    "* `//` &nbsp;&nbsp; floor division 몫\n",
    "* `**` &nbsp;&nbsp; exponent"
   ]
  },
  {
   "cell_type": "code",
   "execution_count": 31,
   "metadata": {
    "slideshow": {
     "slide_type": "-"
    }
   },
   "outputs": [
    {
     "name": "stdout",
     "output_type": "stream",
     "text": [
      "4\n",
      "abc\n",
      "6\n",
      "aaah!\n",
      "4\n",
      "abc\n",
      "3\n",
      "19\n"
     ]
    }
   ],
   "source": [
    "# + and * have different meanings depending on the types of objects with which they are used\n",
    "print(2 + 2)\n",
    "print('a' + 'bc')\n",
    "print(3 * 2)\n",
    "print(3 * 'a' + 'h!')\n",
    "print(2+2)\n",
    "print('a'+'bc')\n",
    "print (45%7)\n",
    "print (39//2)"
   ]
  },
  {
   "cell_type": "markdown",
   "metadata": {
    "slideshow": {
     "slide_type": "slide"
    }
   },
   "source": [
    "## Boolean Operators\n",
    "\n",
    "* `and`\n",
    "* `or`\n",
    "* `not`"
   ]
  },
  {
   "cell_type": "code",
   "execution_count": 38,
   "metadata": {
    "slideshow": {
     "slide_type": "-"
    }
   },
   "outputs": [
    {
     "name": "stdout",
     "output_type": "stream",
     "text": [
      "False\n",
      "True\n",
      "False\n",
      "False\n",
      "True\n",
      "True\n",
      "True\n",
      "False\n",
      "True\n",
      "False\n"
     ]
    }
   ],
   "source": [
    "print(True and False)\n",
    "print (True and True)\n",
    "print (False and True)\n",
    "print (False and False) ## and 에서는 false가 하나라도 있으면 false\n",
    "print (True or True)\n",
    "print(True or False)\n",
    "print (False or True)\n",
    "print (False or False) ## or 에서는 true 가 하나라도 잇으면 true \n",
    "print(not False)\n",
    "print(not True)"
   ]
  },
  {
   "cell_type": "markdown",
   "metadata": {
    "slideshow": {
     "slide_type": "slide"
    }
   },
   "source": [
    "## Comparison Operators\n",
    "\n",
    "* `==` &nbsp;&nbsp; equals\n",
    "* `!=` &nbsp;&nbsp; does not equal\n",
    "* `>` &nbsp;&nbsp; is greater than\n",
    "* `<=` &nbsp;&nbsp; is less than or equal, etc. #항상 <>!가 =선행해야함"
   ]
  },
  {
   "cell_type": "markdown",
   "metadata": {
    "slideshow": {
     "slide_type": "slide"
    }
   },
   "source": [
    "## Assignment Operators\n",
    "\n",
    "* `=` &nbsp;&nbsp; assign right operand to left operand\n",
    "* `+=` &nbsp;&nbsp; add right operand to left operand and assign to left operand\n",
    "* `-=` &nbsp;&nbsp; subtract right operand from left operand and assign to left operand, etc."
   ]
  },
  {
   "cell_type": "code",
   "execution_count": 39,
   "metadata": {
    "slideshow": {
     "slide_type": "-"
    }
   },
   "outputs": [
    {
     "name": "stdout",
     "output_type": "stream",
     "text": [
      "5\n",
      "-3\n"
     ]
    }
   ],
   "source": [
    "a = 2 # assignment이다 R이랑 헷갈리면 안댐\n",
    "a += 3 # Equivalent to a = a + 3, a에 3을 더하라\n",
    "print(a)\n",
    "b = 4\n",
    "b -= 7\n",
    "print (b)"
   ]
  },
  {
   "cell_type": "markdown",
   "metadata": {
    "slideshow": {
     "slide_type": "slide"
    }
   },
   "source": [
    "## Comparison vs. Assignment Operators\n"
   ]
  },
  {
   "cell_type": "code",
   "execution_count": 43,
   "metadata": {
    "slideshow": {
     "slide_type": "-"
    }
   },
   "outputs": [
    {
     "name": "stdout",
     "output_type": "stream",
     "text": [
      "False\n",
      "True\n"
     ]
    }
   ],
   "source": [
    "a = 2 # This is assignment\n",
    "print(a == 1) # This is test for equality. It returns bool.\n",
    "b = 5\n",
    "print(b >=7 or b <=6)"
   ]
  },
  {
   "cell_type": "markdown",
   "metadata": {
    "slideshow": {
     "slide_type": "slide"
    }
   },
   "source": [
    "## Non-Scalar Data Types\n",
    "\n",
    "* List – a mutable ordered sequence of values\n",
    "* Tuple – an immutable ordered sequence of values\n",
    "* String – an immutable ordered sequence of characters\n",
    "* Set – a mutable unordered collection of unique values\n",
    "* Dictionary – a set of key/value pairs"
   ]
  },
  {
   "cell_type": "code",
   "execution_count": 75,
   "metadata": {
    "slideshow": {
     "slide_type": "-"
    }
   },
   "outputs": [
    {
     "name": "stdout",
     "output_type": "stream",
     "text": [
      "[1, 2, 2, 'a', 'a'] {1, 2, 'b', 'a'} (1, 2, 'a', 'b')\n",
      "<class 'str'>\n",
      "b\n",
      "[2, 1, 3, 'b', 'b'] (7, 1, 'b', 'z', 'a') {3, 4, 5, 7, 'a', 'b'} {1: '3', 2: 'g', 3: '3', 4: 'b'}\n"
     ]
    }
   ],
   "source": [
    "list_var = [1, 2, 2, 'a', 'a'] # list []\n",
    "tuple_var = (1, 2, 'a', 'b') # tuple()\n",
    "set_var = {1, 2, 2, 'a', 'b'} # set {}\n",
    "dict_var = {1: 'a', 2: 'b', 3: 'c'} # dictionary{}\n",
    "print(list_var, set_var, tuple_var)\n",
    "list_var2 = [2, 1, 3, 'b','b']\n",
    "tuple_var2 = (7,1,'b','z', 'a')\n",
    "set_var2 = {3,5,'b',4,'b',3,'a', 4,4,4,7} #set order so they do not preserve the order in which they were created\n",
    "dict_var2 = {1: '3', 2: 'g', 3: '3', 4:'b'}\n",
    "print(type(dict_var2[1])) # str임을 알 수 있음 즉 key1에 해당하는 밸류가 int가 아니라 스트링\n",
    "print(dict_var2[4]) #앞의 key를 입력해주면 그에 해당하는 value 값 도출\n",
    "print(list_var2, tuple_var2, set_var2, dict_var2)"
   ]
  },
  {
   "cell_type": "markdown",
   "metadata": {
    "slideshow": {
     "slide_type": "slide"
    }
   },
   "source": [
    "## Converting between Non-Scalar Data Types\n",
    "\n",
    "* Use the name of a type to convert values to that type"
   ]
  },
  {
   "cell_type": "code",
   "execution_count": 76,
   "metadata": {
    "slideshow": {
     "slide_type": "-"
    }
   },
   "outputs": [
    {
     "name": "stdout",
     "output_type": "stream",
     "text": [
      "<class 'tuple'>\n",
      "<class 'dict'>\n",
      "(1, 2, 3) {1: 'd', 2: 'b', 3: 'c'}\n",
      "(3, 7, 4) {1: 'v', 2: 'g', 3: 'k'}\n"
     ]
    }
   ],
   "source": [
    "tup = tuple([1, 2, 3]) #tuple 은 ()이니까 튜플안에 list넣은듯 \n",
    "tup_2 = tuple([3, 7, 4])\n",
    "print(type(tup))\n",
    "dic = dict( [(1, 'd'), (2, 'b'), (3, 'c')] ) #내생각에 dict ()이라는 것은 dict으로 안에 내용을 바꿔준다는것 이때 dict ([(key1, value1), (key2, value2), (key, value3)])\n",
    "print(type(dic))\n",
    "dic_2 = dict( [(1, 'v'), (2, 'g'), (3, 'k')] )\n",
    "\n",
    "print(tup, dic)\n",
    "print(tup_2, dic_2)"
   ]
  },
  {
   "cell_type": "markdown",
   "metadata": {
    "slideshow": {
     "slide_type": "slide"
    }
   },
   "source": [
    "## Membership Operator\n",
    "\n",
    "* `in` &nbsp;&nbsp; left element is in right non-scalar\n",
    "  "
   ]
  },
  {
   "cell_type": "code",
   "execution_count": 77,
   "metadata": {
    "slideshow": {
     "slide_type": "-"
    }
   },
   "outputs": [
    {
     "name": "stdout",
     "output_type": "stream",
     "text": [
      "True\n",
      "False\n"
     ]
    }
   ],
   "source": [
    "print('x' not in 'abcdefg')\n",
    "print('y' not in 'syyyy')"
   ]
  },
  {
   "cell_type": "markdown",
   "metadata": {
    "slideshow": {
     "slide_type": "slide"
    }
   },
   "source": [
    "## Length of Non-Scalar Objects\n",
    "\n",
    "* The `len()` function returns the length of the element # atomic이 아닌 애들의 길이 알아보는법\n"
   ]
  },
  {
   "cell_type": "code",
   "execution_count": 78,
   "metadata": {
    "slideshow": {
     "slide_type": "-"
    }
   },
   "outputs": [
    {
     "name": "stdout",
     "output_type": "stream",
     "text": [
      "3\n",
      "2\n",
      "5\n",
      "2\n",
      "5\n",
      "5\n",
      "6\n",
      "4\n",
      "18\n"
     ]
    }
   ],
   "source": [
    "print( len( [0, 1, 2] ) ) #list\n",
    "print( len('ab') ) #str in python is non-scalar\n",
    "print( len( (1, 2, 3, 4, 'a') ) )\n",
    "print( len( {1: 'a', 2: 'b'} ) )\n",
    "print( len( [6, 7, 2, 1, 31]) ) #list 원소 6,7,2,1,31 길이\n",
    "print( len( ('t', 6, 1, 13, 4) ) )#tuple 원소 t,6,1,13,4\n",
    "print(len( {3, 7, '3', '7', '4', 4, 4} ) ) #set 원소 3,7,'3','7','4',4,4하면 중복되는건 하나로 침\n",
    "print(len( {3: '3', 2: '5', 4: '7', 1: '3'} ) )#dict 원소 3:'3', 2:'5', 4:'7', 1:'3' key-value 쌍이 몇개인지 \n",
    "print(len('sdfdflkajf384y2432'))\n"
   ]
  },
  {
   "cell_type": "markdown",
   "metadata": {
    "slideshow": {
     "slide_type": "slide"
    }
   },
   "source": [
    "## Non-Scalar Data Types: Exercise"
   ]
  },
  {
   "cell_type": "code",
   "execution_count": 96,
   "metadata": {
    "slideshow": {
     "slide_type": "-"
    }
   },
   "outputs": [
    {
     "data": {
      "text/plain": [
       "26"
      ]
     },
     "execution_count": 96,
     "metadata": {},
     "output_type": "execute_result"
    }
   ],
   "source": [
    "# Use len() to count the number of unique letters in the string below\n",
    "\n",
    "s = 'jackie will budget for the most expensive zoology equipment'\n",
    "\n",
    "\n",
    "\n",
    "#set(s)하면 s에 대한 set이 만들어짐 list(s)하면 리스트 만들어지고 tuple(s)하면 tuple만들어짐 \n",
    "#set(s)가 빈칸 하나를 포함하니까 -1하면 됨\n",
    "len(set(s))-1\n"
   ]
  },
  {
   "cell_type": "markdown",
   "metadata": {
    "slideshow": {
     "slide_type": "slide"
    }
   },
   "source": [
    "## Strings\n",
    "\n",
    "* You can write string literals in different ways\n",
    "  * Single quotes: `'allows embedded \"double\" quotes'`\n",
    "  * Double quotes: `\"allows embedded 'single' quotes\"` #안에 '제발' 이것처럼 싱글 쿠옷 써야할때\n",
    "  * Triple quoted: `'''Three single quotes'''`, `\"\"\"Three double quotes\"\"\"`\n"
   ]
  },
  {
   "cell_type": "code",
   "execution_count": 103,
   "metadata": {
    "slideshow": {
     "slide_type": "-"
    }
   },
   "outputs": [
    {
     "data": {
      "text/plain": [
       "'Triple quoted strings may span multiple lines - \\nall associated whitespace will be included \\nin the string literal.'"
      ]
     },
     "execution_count": 103,
     "metadata": {},
     "output_type": "execute_result"
    }
   ],
   "source": [
    "'''Triple quoted strings may span multiple lines - \n",
    "all associated whitespace will be included \n",
    "in the string literal.'''\n"
   ]
  },
  {
   "cell_type": "markdown",
   "metadata": {
    "scrolled": true,
    "slideshow": {
     "slide_type": "fragment"
    }
   },
   "source": [
    "* Strings implement all of the common sequence operations we will shortly discuss, along with some additional methods: http://docs.python.org/3/library/stdtypes.html#string-methods"
   ]
  },
  {
   "cell_type": "markdown",
   "metadata": {
    "slideshow": {
     "slide_type": "slide"
    }
   },
   "source": [
    "## Objects Have Methods Associated with Them\n",
    "\n",
    "### `object.method()`\n",
    "\n",
    "Use the period `.` to link the method to the object."
   ]
  },
  {
   "cell_type": "code",
   "execution_count": 108,
   "metadata": {
    "slideshow": {
     "slide_type": "-"
    }
   },
   "outputs": [
    {
     "data": {
      "text/plain": [
       "'HELLO'"
      ]
     },
     "execution_count": 108,
     "metadata": {},
     "output_type": "execute_result"
    }
   ],
   "source": [
    "string1 = 'Hello'\n",
    "\n",
    "string1 + '!'   # This is an operator. Operators combine objects in expressions.\n",
    "len(string1)   # This is a function. Functions take objects as arguments.\n",
    "string1.upper()   # This is a method. Methods are attached to objects.\n"
   ]
  },
  {
   "cell_type": "markdown",
   "metadata": {
    "slideshow": {
     "slide_type": "slide"
    }
   },
   "source": [
    "## String Methods: Formatting\n",
    "\n",
    "* `S.upper()` – change to upper case\n",
    "* `S.lower()` – change to lower case\n",
    "* `S.capitalize()` – capitalize the first word\n",
    "* `S.find(S1)` – return the index of the first instance of input"
   ]
  },
  {
   "cell_type": "code",
   "execution_count": 114,
   "metadata": {
    "slideshow": {
     "slide_type": "-"
    }
   },
   "outputs": [
    {
     "name": "stdout",
     "output_type": "stream",
     "text": [
      "MAKE ME SCREAM!\n",
      "Make this into a proper sentence.\n",
      "1\n",
      "WHAT THE FUCK\n",
      "I don't like coding!\n",
      "-1\n"
     ]
    }
   ],
   "source": [
    "print('Make me scream!'.upper())\n",
    "x = 'make this into a proper sentence' #변수지정 해놓고 x.method하는거\n",
    "print(x.capitalize() + '.')\n",
    "\n",
    "print('Find the first \"i\" in this sentence.'.find('i')) # i가 두번째로 오니까 결과값은 1\n",
    "print('what the fuck'.upper())\n",
    "x = \"i don't like coding\"\n",
    "print(x.capitalize() + '!')\n",
    "print('find the first z in this sentence.'.find('p')) #왜 없는값 치면 -1나오는거??"
   ]
  },
  {
   "cell_type": "markdown",
   "metadata": {
    "slideshow": {
     "slide_type": "slide"
    }
   },
   "source": [
    "## String Methods: `strip` and `replace`\n",
    "\n",
    "* `S.replace(S1, S2)` – find all instances of S1 and change to S2\n",
    "* `S.strip(S1)` – remove whitespace characters from the beginning and end of a string (useful when reading in from a file)"
   ]
  },
  {
   "cell_type": "code",
   "execution_count": 141,
   "metadata": {
    "slideshow": {
     "slide_type": "-"
    }
   },
   "outputs": [
    {
     "name": "stdout",
     "output_type": "stream",
     "text": [
      " ThiS iS a long Sentence that we will uSe aS an example.\n",
      "\n",
      "This is a long sentence that we will use as an example.\n",
      "Thisisalongsentencethatwewilluseasanexample.\n",
      "\n",
      " ThiS iS a Sentence created by mini.\n",
      "\n",
      "\n",
      "\n",
      "This is a sentence created by mini.\n",
      "Thisisasentencecreatedbymini.\n",
      "\n",
      "\n",
      "\n",
      "sdf\n"
     ]
    }
   ],
   "source": [
    "x = ' This is a long sentence that we will use as an example.\\n' #\\n하고 닫으면 줄 한칸 생김 여러개 생기게 하려면 \\n\\n\\n\\n strip methods remove whitespace\n",
    "\n",
    "print(x.replace('s', 'S'))\n",
    "print(x.strip())\n",
    "print(x.replace(' ', ''))\n",
    "\n",
    "y = ' This is a sentence created by mini.\\n\\n\\n'\n",
    "print(y.replace('s', 'S')) #이건 이대로 이미 커맨드 된거라 뒤에 \\n\\n\\n유효함\n",
    "print(y.strip()) #문장 첫 머리랑 뒤에 whitespace다 없애줘서 뒷 문장 첫 str이 다음줄에 공백없이 바로 옴\n",
    "print(y.replace(\" \", \"\")) #여긴 또 새로운 코맨드라 \\n\\n\\n유효\n",
    "print('sdf')\n",
    "\n"
   ]
  },
  {
   "cell_type": "markdown",
   "metadata": {
    "slideshow": {
     "slide_type": "slide"
    }
   },
   "source": [
    "## String Methods: `split` and `join`\n",
    "\n",
    "* `S.split(S1)` – split the string into a list\n",
    "* `S.join(L)` – combine the input sequence into a single string"
   ]
  },
  {
   "cell_type": "code",
   "execution_count": 154,
   "metadata": {
    "slideshow": {
     "slide_type": "-"
    }
   },
   "outputs": [
    {
     "name": "stdout",
     "output_type": "stream",
     "text": [
      "['this', 'is', 'a', 'collection', 'of', 'words', 'i', 'would', 'like', 'to', 'break', 'it', 'into', 'tokens']\n",
      "['this is a collection of words i would li', 'e to brea', ' it into to', 'ens']\n",
      "['this is a c', 'llecti', 'n ', 'f w', 'rds i w', 'uld like t', ' break it int', ' t', 'kens']\n",
      "this-is-a-collection-of-words-i-would-like-to-break-it-into-tokens\n"
     ]
    }
   ],
   "source": [
    "x = 'this is a collection of words i would like to break it into tokens'\n",
    "y = x.split()    # default is to split on ' ' split()괄호안에 없애고 싶은 str 잇으면 그거 'str'넣으면 됨\n",
    "z = x.split('k')\n",
    "print(y)\n",
    "print(z)\n",
    "print(x.split('o'))  #'o'를 중심으로 split하세요 , 여기도 마찬가지로 o를 없애고 \n",
    "\n",
    "x_new = '-'.join(y)\n",
    "print(x_new)"
   ]
  },
  {
   "cell_type": "markdown",
   "metadata": {
    "slideshow": {
     "slide_type": "slide"
    }
   },
   "source": [
    "## String Methods: Exercise"
   ]
  },
  {
   "cell_type": "code",
   "execution_count": 186,
   "metadata": {
    "slideshow": {
     "slide_type": "-"
    }
   },
   "outputs": [
    {
     "name": "stdout",
     "output_type": "stream",
     "text": [
      "This sentence needs better formatting.\n"
     ]
    }
   ],
   "source": [
    "# Use string methods to create a properly formatted sentence \n",
    "# from the words below:\n",
    "\n",
    "ls = ['  ThiS', 'SenTence', 'NEEDS', 'bEttEr!', 'foRmatting'] \n",
    "ls_new = ' '.join(ls).lower().replace('!', '').strip().capitalize() +'.'\n",
    "#그냥 이렇게 줄줄 쓰면 됨 괄호괄호 할 필요 없음\n",
    "\n",
    "print (ls_new)\n",
    "\n"
   ]
  },
  {
   "cell_type": "markdown",
   "metadata": {
    "slideshow": {
     "slide_type": "slide"
    }
   },
   "source": [
    "## Unordered Types vs. Sequences\n",
    "\n",
    "* Unordered types: `set`, `dict`\n",
    "* Ordered (sequence) types: `str`, `list`, `tuple`\n",
    "  "
   ]
  },
  {
   "cell_type": "code",
   "execution_count": 194,
   "metadata": {
    "slideshow": {
     "slide_type": "-"
    }
   },
   "outputs": [
    {
     "name": "stdout",
     "output_type": "stream",
     "text": [
      "{1, 2, 'b', 'a'}\n"
     ]
    }
   ],
   "source": [
    "st = {1, 2, 2, 'a', 'b'} # sets are unordered\n",
    "print(st)"
   ]
  },
  {
   "cell_type": "markdown",
   "metadata": {
    "slideshow": {
     "slide_type": "slide"
    }
   },
   "source": [
    "## Set Methods\n",
    "\n",
    "![Set operations](figs/sets.png \"Set operations\")\n",
    "\n",
    "* `S1.union(S2)`, `S1 | S2` — elements in S1 or S2, or both\n",
    "* `S1.intersection(S2)`, `S1 & S2` — elements in both S1 and S2\n",
    "* `S1.difference(S2)`, `S1 - S2` — elements in S1 but not in S2\n",
    "* `S1.symmetric_difference(S2)`, `S1 ^ S2` — elements in S1 or S2 but not both"
   ]
  },
  {
   "cell_type": "code",
   "execution_count": 196,
   "metadata": {
    "slideshow": {
     "slide_type": "-"
    }
   },
   "outputs": [
    {
     "name": "stdout",
     "output_type": "stream",
     "text": [
      "{'r', 't', 'm', 'e'}\n"
     ]
    }
   ],
   "source": [
    "st1 = set('homophily')\n",
    "\n",
    "st2 = set('heterophily')\n",
    "print(st1 ^ st2)"
   ]
  },
  {
   "cell_type": "markdown",
   "metadata": {
    "slideshow": {
     "slide_type": "slide"
    }
   },
   "source": [
    "## Dictionary Operations: Indexing\n",
    "\n",
    "* Dictionaries are indexed by keys"
   ]
  },
  {
   "cell_type": "code",
   "execution_count": 197,
   "metadata": {
    "slideshow": {
     "slide_type": "-"
    }
   },
   "outputs": [
    {
     "name": "stdout",
     "output_type": "stream",
     "text": [
      "astrophysicist\n",
      "physicist\n"
     ]
    }
   ],
   "source": [
    "mydic = {'Howard': 'aerospace engineer', 'Leonard': 'physicist', 'Sheldon': 'physicist', \n",
    "         'Penny': 'waitress', 'Raj': 'astrophysicist'}\n",
    "print(mydic['Raj'])\n",
    "print(mydic['Leonard'])"
   ]
  },
  {
   "cell_type": "markdown",
   "metadata": {
    "slideshow": {
     "slide_type": "slide"
    }
   },
   "source": [
    "## Sequence Operations: Indexing\n",
    "\n",
    "* Lists, tuples, and strings are indexed by numbers"
   ]
  },
  {
   "cell_type": "code",
   "execution_count": 3,
   "metadata": {
    "slideshow": {
     "slide_type": "-"
    }
   },
   "outputs": [
    {
     "data": {
      "text/plain": [
       "'C'"
      ]
     },
     "execution_count": 3,
     "metadata": {},
     "output_type": "execute_result"
    }
   ],
   "source": [
    "'ABCDEFG'[2]\n"
   ]
  },
  {
   "cell_type": "markdown",
   "metadata": {
    "slideshow": {
     "slide_type": "slide"
    }
   },
   "source": [
    "## Indexing in Python starts from 0!\n",
    "\n",
    "![Indexing sequences](figs/indexing.jpg \"Indexing sequences\")\n",
    "\n",
    "Source: https://devrant.com/rants/1798534/array-start-from-zero-d"
   ]
  },
  {
   "cell_type": "markdown",
   "metadata": {
    "slideshow": {
     "slide_type": "slide"
    }
   },
   "source": [
    "## Sequence Operations: Indexing\n",
    "\n",
    "* Use `elem[index]` to extract individual sub-elements"
   ]
  },
  {
   "cell_type": "code",
   "execution_count": 198,
   "metadata": {
    "slideshow": {
     "slide_type": "-"
    }
   },
   "outputs": [
    {
     "name": "stdout",
     "output_type": "stream",
     "text": [
      "a\n",
      "c\n"
     ]
    },
    {
     "ename": "IndexError",
     "evalue": "list index out of range",
     "output_type": "error",
     "traceback": [
      "\u001b[1;31m---------------------------------------------------------------------------\u001b[0m",
      "\u001b[1;31mIndexError\u001b[0m                                Traceback (most recent call last)",
      "\u001b[1;32m<ipython-input-198-e9a2da3bb006>\u001b[0m in \u001b[0;36m<module>\u001b[1;34m\u001b[0m\n\u001b[0;32m      1\u001b[0m \u001b[0mprint\u001b[0m\u001b[1;33m(\u001b[0m \u001b[1;34m'abc'\u001b[0m\u001b[1;33m[\u001b[0m\u001b[1;36m0\u001b[0m\u001b[1;33m]\u001b[0m \u001b[1;33m)\u001b[0m\u001b[1;33m\u001b[0m\u001b[1;33m\u001b[0m\u001b[0m\n\u001b[0;32m      2\u001b[0m \u001b[0mprint\u001b[0m\u001b[1;33m(\u001b[0m \u001b[1;33m(\u001b[0m\u001b[1;34m'a'\u001b[0m\u001b[1;33m,\u001b[0m \u001b[1;34m'b'\u001b[0m\u001b[1;33m,\u001b[0m \u001b[1;34m'c'\u001b[0m\u001b[1;33m)\u001b[0m\u001b[1;33m[\u001b[0m\u001b[1;33m-\u001b[0m\u001b[1;36m1\u001b[0m\u001b[1;33m]\u001b[0m\u001b[1;33m)\u001b[0m \u001b[1;31m# use negative numbers to index from the end\u001b[0m\u001b[1;33m\u001b[0m\u001b[1;33m\u001b[0m\u001b[0m\n\u001b[1;32m----> 3\u001b[1;33m \u001b[0mprint\u001b[0m\u001b[1;33m(\u001b[0m \u001b[1;33m[\u001b[0m\u001b[1;34m'a'\u001b[0m\u001b[1;33m,\u001b[0m \u001b[1;34m'b'\u001b[0m\u001b[1;33m,\u001b[0m \u001b[1;34m'c'\u001b[0m\u001b[1;33m]\u001b[0m\u001b[1;33m[\u001b[0m\u001b[1;36m3\u001b[0m\u001b[1;33m]\u001b[0m\u001b[1;33m)\u001b[0m \u001b[1;31m#there's no element for [3]\u001b[0m\u001b[1;33m\u001b[0m\u001b[1;33m\u001b[0m\u001b[0m\n\u001b[0m",
      "\u001b[1;31mIndexError\u001b[0m: list index out of range"
     ]
    }
   ],
   "source": [
    "print( 'abc'[0] ) \n",
    "print( ('a', 'b', 'c')[-1]) # use negative numbers to index from the end\n",
    "print( ['a', 'b', 'c'][3]) #there's no element for [3]"
   ]
  },
  {
   "cell_type": "markdown",
   "metadata": {
    "slideshow": {
     "slide_type": "slide"
    }
   },
   "source": [
    "## Sequence Operations: Slicing\n",
    "\n",
    "* Use `elem[start:end]` to get sub-sequence starting from index `start` and ending at index `end-1`"
   ]
  },
  {
   "cell_type": "code",
   "execution_count": 38,
   "metadata": {
    "scrolled": true,
    "slideshow": {
     "slide_type": "-"
    }
   },
   "outputs": [
    {
     "name": "stdout",
     "output_type": "stream",
     "text": [
      "[20, 30, 40, 50]\n",
      "[10, 20, 30]\n",
      "[20, 30, 40, 50]\n",
      "5\n",
      "[50, 40, 30, 20, 10]\n"
     ]
    }
   ],
   "source": [
    "ls = [10, 20, 30, 40, 50]\n",
    "print( ls[1:5] )  #so exclusive of index 4\n",
    "print( ls[:3] ) # 0이면 0적을필요 없음\n",
    "print( ls[1:] )\n",
    "print(len(ls))\n",
    "\n",
    "ls[:] == ls[0:len(ls)]\n",
    "print (ls[::-1])\n",
    "#x[start:end:step]"
   ]
  },
  {
   "cell_type": "markdown",
   "metadata": {
    "slideshow": {
     "slide_type": "slide"
    }
   },
   "source": [
    "## Sequence Operations: Extended Slices\n",
    "\n",
    "* Use `elem[start:end:step]` to get sub-sequence starting from index `start`, in steps of `step`, ending at index `end-1`"
   ]
  },
  {
   "cell_type": "code",
   "execution_count": 23,
   "metadata": {
    "slideshow": {
     "slide_type": "-"
    }
   },
   "outputs": [
    {
     "name": "stdout",
     "output_type": "stream",
     "text": [
      "[10, 30, 50]\n",
      "[50, 40, 30, 20, 10]\n",
      "[10, 20, 30, 40, 50]\n"
     ]
    }
   ],
   "source": [
    "ls = [10, 20, 30, 40, 50]\n",
    "print( ls[::2] ) # get elements with even indeces\n",
    "print( ls[::-1] ) # get elements in reverse order\n"
   ]
  },
  {
   "cell_type": "markdown",
   "metadata": {
    "slideshow": {
     "slide_type": "slide"
    }
   },
   "source": [
    "## Indexing and Slicing: Exercise"
   ]
  },
  {
   "cell_type": "code",
   "execution_count": 55,
   "metadata": {
    "slideshow": {
     "slide_type": "-"
    }
   },
   "outputs": [
    {
     "name": "stdout",
     "output_type": "stream",
     "text": [
      "27\n",
      "z\n",
      "b d e f z\n"
     ]
    }
   ],
   "source": [
    "# Use indexing and slicing to create a new string that contains \n",
    "# the 2nd, 4th, 5th, 6th, and last characters from the string below\n",
    "#이거 답 확인할것!\n",
    "\n",
    "s = 'abcdefghijklmnopqrstuvwxyz'\n",
    "s = list(s)\n",
    "print(len(s)+1)\n",
    "print(s[len(s)-1])\n",
    "print(s[1], s[3], s[4], s[5], s[len(s)-1])\n",
    "\n",
    "\n"
   ]
  },
  {
   "cell_type": "markdown",
   "metadata": {
    "slideshow": {
     "slide_type": "slide"
    }
   },
   "source": [
    "## More Sequence Operations"
   ]
  },
  {
   "cell_type": "code",
   "execution_count": 24,
   "metadata": {
    "slideshow": {
     "slide_type": "-"
    }
   },
   "outputs": [
    {
     "name": "stdout",
     "output_type": "stream",
     "text": [
      "(1, 1, 1) (1, 1, 1, 2, 2)\n",
      "2\n",
      "7\n",
      "3\n",
      "3\n"
     ]
    }
   ],
   "source": [
    "tup1 = 3 * (1,) # Notice that tuple of length 1 needs comma!\n",
    "tup2 = tup1 + (2, 2) # Concatenate the two elements\n",
    "print(tup1, tup2)\n",
    "\n",
    "print( max(tup2) ) # or min()\n",
    "print( sum(tup2) )\n",
    "print( tup2.count(1) )\n",
    "print( tup2.index(2) )"
   ]
  },
  {
   "cell_type": "markdown",
   "metadata": {
    "slideshow": {
     "slide_type": "fragment"
    }
   },
   "source": [
    "* Why use tuples? \n",
    "    * ⚡️ They use less memory than lists\n",
    "    * They can be used as dictionary keys; lists can't"
   ]
  },
  {
   "cell_type": "markdown",
   "metadata": {
    "slideshow": {
     "slide_type": "slide"
    }
   },
   "source": [
    "## Mutability\n",
    "\n",
    "* Immutable types: `str`, `tuple`, and all scalars\n",
    "* Mutable types: `list`, `set`, `dict`\n",
    "\n",
    "**Objects of mutable types can be modified once they are created.**"
   ]
  },
  {
   "cell_type": "code",
   "execution_count": 25,
   "metadata": {
    "slideshow": {
     "slide_type": "-"
    }
   },
   "outputs": [
    {
     "name": "stdout",
     "output_type": "stream",
     "text": [
      "{1: 'a', 2: 'b', 3: 'c'}\n",
      "[1, 2, 3, 4, 5]\n"
     ]
    }
   ],
   "source": [
    "dic = {1:'a', 2:'b'}\n",
    "dic[3] = 'c'\n",
    "print(dic)\n",
    "\n",
    "ls = [5, 4, 1, 3, 2]\n",
    "ls.sort()\n",
    "print(ls)"
   ]
  },
  {
   "cell_type": "markdown",
   "metadata": {
    "slideshow": {
     "slide_type": "slide"
    }
   },
   "source": [
    "## Mutability Can Be Quite Convenient\n",
    "\n",
    "There are several useful list methods, see http://docs.python.org/3/library/stdtypes.html#mutable-sequence-types:\n",
    "\n",
    "* `L.append(e)`\n",
    "* `L.insert(i, e)`\n",
    "* `L.remove(e)`\n",
    "* `L.extend(L1)`\n",
    "* `L.pop(i)`\n",
    "* `L.sort()`\n",
    "* `L.reverse()`"
   ]
  },
  {
   "cell_type": "code",
   "execution_count": 13,
   "metadata": {
    "slideshow": {
     "slide_type": "-"
    }
   },
   "outputs": [
    {
     "name": "stdout",
     "output_type": "stream",
     "text": [
      "[1, 2, 3, 4]\n",
      "[1, 2, 3, 4, 5, 6, 7, 8, 9, 10]\n"
     ]
    }
   ],
   "source": [
    "ls1 = [1, 2, 3]\n",
    "ls1.append(4)\n",
    "print(ls1)\n",
    "ls1.extend([5, 6, 7, 8, 9, 10])\n",
    "print(ls1)"
   ]
  },
  {
   "cell_type": "markdown",
   "metadata": {
    "slideshow": {
     "slide_type": "slide"
    }
   },
   "source": [
    "## Mutability Can Also Be Dangerous"
   ]
  },
  {
   "cell_type": "code",
   "execution_count": 14,
   "metadata": {
    "slideshow": {
     "slide_type": "-"
    }
   },
   "outputs": [
    {
     "name": "stdout",
     "output_type": "stream",
     "text": [
      "[1, 2, 3, [4, 5, 6, 7]]\n",
      "[1, 2, 3, [4, 5, 6, 7, 8, 9, 10]]\n"
     ]
    }
   ],
   "source": [
    "ls1 = [1, 2, 3]\n",
    "ls2 = [4, 5, 6, 7]\n",
    "\n",
    "ls1.append(ls2)\n",
    "print(ls1)\n",
    "\n",
    "ls2.extend([8, 9, 10])\n",
    "print(ls1)"
   ]
  },
  {
   "cell_type": "markdown",
   "metadata": {
    "slideshow": {
     "slide_type": "slide"
    }
   },
   "source": [
    "## Aliasing vs. Cloning\n",
    "\n",
    "![Aliasing](figs/aliasing.png \"Aliasing\")"
   ]
  },
  {
   "cell_type": "code",
   "execution_count": 16,
   "metadata": {
    "slideshow": {
     "slide_type": "-"
    }
   },
   "outputs": [
    {
     "name": "stdout",
     "output_type": "stream",
     "text": [
      "[1, 2, 3]\n"
     ]
    }
   ],
   "source": [
    "ls1 = [1, 2, 3]\n",
    "ls2 = ls1[:]  # Using [:] is one way to clone\n",
    "\n",
    "ls1.reverse()\n",
    "print(ls2)"
   ]
  },
  {
   "cell_type": "markdown",
   "metadata": {
    "slideshow": {
     "slide_type": "slide"
    }
   },
   "source": [
    "## List Methods:  `append` vs. `extend`"
   ]
  },
  {
   "cell_type": "code",
   "execution_count": 29,
   "metadata": {
    "slideshow": {
     "slide_type": "-"
    }
   },
   "outputs": [
    {
     "name": "stdout",
     "output_type": "stream",
     "text": [
      "[1, 2, 3, 4, 5]\n",
      "[1, 2, 3, 4, 5, 8, 7, 6]\n"
     ]
    }
   ],
   "source": [
    "mylist = [1, 2, 3, 4]\n",
    "mylist.append(5)\n",
    "print(mylist)\n",
    "\n",
    "mylist.extend([8, 7, 6])\n",
    "print(mylist)"
   ]
  },
  {
   "cell_type": "markdown",
   "metadata": {
    "slideshow": {
     "slide_type": "slide"
    }
   },
   "source": [
    "## List Methods: `remove` vs. `pop`"
   ]
  },
  {
   "cell_type": "code",
   "execution_count": 13,
   "metadata": {
    "slideshow": {
     "slide_type": "-"
    }
   },
   "outputs": [
    {
     "name": "stdout",
     "output_type": "stream",
     "text": [
      "[2, 3, 4]\n",
      "3 [2, 4]\n"
     ]
    }
   ],
   "source": [
    "mylist = [1, 2, 3, 4]\n",
    "\n",
    "mylist.remove(1)\n",
    "print(mylist)\n",
    "\n",
    "popped = mylist.pop(1)\n",
    "print(popped, mylist)"
   ]
  },
  {
   "cell_type": "markdown",
   "metadata": {
    "slideshow": {
     "slide_type": "slide"
    }
   },
   "source": [
    "## List Methods: `L.sort()` vs. `sorted(L)`"
   ]
  },
  {
   "cell_type": "code",
   "execution_count": 31,
   "metadata": {
    "slideshow": {
     "slide_type": "-"
    }
   },
   "outputs": [
    {
     "name": "stdout",
     "output_type": "stream",
     "text": [
      "[1, 2, 3, 4, 5]\n",
      "[10, 9, 6, 8, 7]\n",
      "[10, 9, 6, 8, 7] [6, 7, 8, 9, 10]\n"
     ]
    }
   ],
   "source": [
    "mylist = [4, 5, 2, 1, 3]\n",
    "mylist.sort()  # Sorts in-place. It is more efficient but overwrites the input.\n",
    "print(mylist)\n",
    "\n",
    "mylist = [10, 9, 6, 8, 7]\n",
    "sorted(mylist) \n",
    "print(mylist)\n",
    "\n",
    "newlist = sorted(mylist)  # Creates a new list that is sorted, not changing the original.\n",
    "print(mylist, newlist)"
   ]
  },
  {
   "cell_type": "markdown",
   "metadata": {
    "slideshow": {
     "slide_type": "slide"
    }
   },
   "source": [
    "## Aliasing and Cloning: Exercise"
   ]
  },
  {
   "cell_type": "markdown",
   "metadata": {
    "slideshow": {
     "slide_type": "-"
    }
   },
   "source": [
    "What will the following program print?\n",
    "\n",
    "```\n",
    "ls1 = [11, 3, 8, 6, 6, 1]\n",
    "ls2 = ls1\n",
    "ls2[2] = 0\n",
    "print(ls1)\n",
    "```\n",
    "\n",
    "* (A) [11, 3, 8, 6, 6, 1]\n",
    "* (B) [11, 0, 8, 6, 6, 1]\n",
    "* (C) [11, 3, 0, 6, 6, 1]\n",
    "* (D) 0"
   ]
  },
  {
   "cell_type": "markdown",
   "metadata": {
    "slideshow": {
     "slide_type": "slide"
    }
   },
   "source": [
    "## Data Types in Python\n",
    "\n",
    "\n",
    "| Type     | Scalar     | Mutability | Order   \n",
    "| :------: |:----------:|:----------:| :---------:\n",
    "| `int`    | scalar     | immutable  |             \n",
    "| `float`  | scalar     | immutable  |  \n",
    "| `bool`   | scalar     | immutable  | \n",
    "| `None`   | scalar     | immutable  | \n",
    "| `str`    | non-scalar | immutable  | ordered\n",
    "| `tuple`  | non-scalar | immutable  | ordered\n",
    "| `list`   | non-scalar | mutable    | ordered\n",
    "| `set`    | non-scalar | mutable    | unordered\n",
    "| `dict`   | non-scalar | mutable    | unordered\n",
    "\n",
    "* Objects have types\n",
    "* Objects have methods"
   ]
  },
  {
   "cell_type": "markdown",
   "metadata": {
    "slideshow": {
     "slide_type": "fragment"
    }
   },
   "source": [
    "-------\n",
    "\n",
    "* **Lab**: Lists, lists, lists (and some strings)\n",
    "* **Next week**: Control flow in Python"
   ]
  }
 ],
 "metadata": {
  "celltoolbar": "Slideshow",
  "kernelspec": {
   "display_name": "Python 3",
   "language": "python",
   "name": "python3"
  },
  "language_info": {
   "codemirror_mode": {
    "name": "ipython",
    "version": 3
   },
   "file_extension": ".py",
   "mimetype": "text/x-python",
   "name": "python",
   "nbconvert_exporter": "python",
   "pygments_lexer": "ipython3",
   "version": "3.8.8"
  }
 },
 "nbformat": 4,
 "nbformat_minor": 2
}
